{
  "nbformat": 4,
  "nbformat_minor": 0,
  "metadata": {
    "colab": {
      "provenance": [],
      "mount_file_id": "1gTTFCrlOS2_I3PxCroC6FX_fM72fY6pL",
      "authorship_tag": "ABX9TyOgPUHKzaIp3zkvTA9Iq/rN",
      "include_colab_link": true
    },
    "kernelspec": {
      "name": "python3",
      "display_name": "Python 3"
    },
    "language_info": {
      "name": "python"
    }
  },
  "cells": [
    {
      "cell_type": "markdown",
      "metadata": {
        "id": "view-in-github",
        "colab_type": "text"
      },
      "source": [
        "<a href=\"https://colab.research.google.com/github/abnersantana00/youtube-transcriber/blob/main/youtube_transcriber.ipynb\" target=\"_parent\"><img src=\"https://colab.research.google.com/assets/colab-badge.svg\" alt=\"Open In Colab\"/></a>"
      ]
    },
    {
      "cell_type": "markdown",
      "source": [
        "**YouTube Trascript**\n",
        "\n",
        "Transcrible legend YouTube to text to use GPT analitcs\n"
      ],
      "metadata": {
        "id": "CMh7clc0247l"
      }
    },
    {
      "cell_type": "code",
      "source": [
        "!pip install youtube-transcript-api"
      ],
      "metadata": {
        "colab": {
          "base_uri": "https://localhost:8080/"
        },
        "collapsed": true,
        "id": "ULi1DXbB1-kw",
        "outputId": "136a7869-9fc1-43c1-b903-88b1478a770b"
      },
      "execution_count": null,
      "outputs": [
        {
          "output_type": "stream",
          "name": "stdout",
          "text": [
            "Collecting youtube-transcript-api\n",
            "  Downloading youtube_transcript_api-0.6.2-py3-none-any.whl.metadata (15 kB)\n",
            "Requirement already satisfied: requests in /usr/local/lib/python3.10/dist-packages (from youtube-transcript-api) (2.32.3)\n",
            "Requirement already satisfied: charset-normalizer<4,>=2 in /usr/local/lib/python3.10/dist-packages (from requests->youtube-transcript-api) (3.4.0)\n",
            "Requirement already satisfied: idna<4,>=2.5 in /usr/local/lib/python3.10/dist-packages (from requests->youtube-transcript-api) (3.10)\n",
            "Requirement already satisfied: urllib3<3,>=1.21.1 in /usr/local/lib/python3.10/dist-packages (from requests->youtube-transcript-api) (2.2.3)\n",
            "Requirement already satisfied: certifi>=2017.4.17 in /usr/local/lib/python3.10/dist-packages (from requests->youtube-transcript-api) (2024.8.30)\n",
            "Downloading youtube_transcript_api-0.6.2-py3-none-any.whl (24 kB)\n",
            "Installing collected packages: youtube-transcript-api\n",
            "Successfully installed youtube-transcript-api-0.6.2\n"
          ]
        }
      ]
    },
    {
      "cell_type": "code",
      "execution_count": null,
      "metadata": {
        "id": "57FOiliQ1oTX"
      },
      "outputs": [],
      "source": [
        "#youtube transcribe\n",
        "from youtube_transcript_api import YouTubeTranscriptApi\n",
        "\n",
        "# ID do vídeo do YouTube (após 'v=' na URL ou último segmento da URL encurtada)\n",
        "video_id = '4uGUpYXigks'\n",
        "\n",
        "try:\n",
        "    # Obtém a transcrição automática em português\n",
        "    transcript = YouTubeTranscriptApi.get_transcript(video_id, languages=['pt', 'pt-BR'])\n",
        "\n",
        "    # Exibe as legendas em formato de texto\n",
        "    for entry in transcript:\n",
        "        print(f\"{entry['text']}\")\n",
        "        #print(f\"{entry['start']:.2f}s: {entry['text']}\")\n",
        "except Exception as e:\n",
        "    print(\"Não foi possível obter as legendas:\", str(e))\n",
        "\n"
      ]
    },
    {
      "cell_type": "code",
      "source": [
        "from google.colab import drive\n",
        "drive.mount('/content/drive')"
      ],
      "metadata": {
        "id": "LWS1Ml_m4Mie"
      },
      "execution_count": null,
      "outputs": []
    }
  ]
}