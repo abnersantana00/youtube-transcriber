{
  "nbformat": 4,
  "nbformat_minor": 0,
  "metadata": {
    "colab": {
      "provenance": [],
      "mount_file_id": "1gTTFCrlOS2_I3PxCroC6FX_fM72fY6pL",
      "authorship_tag": "ABX9TyNjbl0ZsfT0vn7lXj6gAQIL",
      "include_colab_link": true
    },
    "kernelspec": {
      "name": "python3",
      "display_name": "Python 3"
    },
    "language_info": {
      "name": "python"
    }
  },
  "cells": [
    {
      "cell_type": "markdown",
      "metadata": {
        "id": "view-in-github",
        "colab_type": "text"
      },
      "source": [
        "<a href=\"https://colab.research.google.com/github/abnersantana00/youtube-transcriber/blob/main/youtube_transcriber.ipynb\" target=\"_parent\"><img src=\"https://colab.research.google.com/assets/colab-badge.svg\" alt=\"Open In Colab\"/></a>"
      ]
    },
    {
      "cell_type": "markdown",
      "source": [
        "**YouTube Trascript**\n",
        "\n",
        "Transcrible legend YouTube to text to use GPT analitcs.\n"
      ],
      "metadata": {
        "id": "CMh7clc0247l"
      }
    },
    {
      "cell_type": "code",
      "execution_count": null,
      "metadata": {
        "id": "57FOiliQ1oTX"
      },
      "outputs": [],
      "source": [
        "!pip install youtube-transcript-api\n",
        "#youtube transcribe\n",
        "from youtube_transcript_api import YouTubeTranscriptApi\n",
        "\n",
        "# ID do vídeo do YouTube (após 'v=' na URL ou último segmento da URL encurtada )\n",
        "video_id = 'kSgV7KOHt9s'\n",
        "\n",
        "try:\n",
        "    # Obtém a transcrição automática em português\n",
        "    transcript = YouTubeTranscriptApi.get_transcript(video_id, languages=['pt', 'pt-BR'])\n",
        "\n",
        "    # Exibe as legendas em formato de texto\n",
        "    for entry in transcript:\n",
        "        print(f\"{entry['text']}\")\n",
        "        #print(f\"{entry['start']:.2f}s: {entry['text']}\")\n",
        "except Exception as e:\n",
        "    print(\"Não foi possível obter as legendas:\", str(e))\n",
        "\n"
      ]
    }
  ]
}